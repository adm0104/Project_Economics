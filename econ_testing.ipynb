{
 "cells": [
  {
   "cell_type": "code",
   "execution_count": 1,
   "id": "debbf8e2",
   "metadata": {},
   "outputs": [
    {
     "name": "stdout",
     "output_type": "stream",
     "text": [
      "C:\\Users\\adm01\\Python\\Project_Economics\n"
     ]
    }
   ],
   "source": [
    "cd Python\\Project_Economics"
   ]
  },
  {
   "cell_type": "code",
   "execution_count": 2,
   "id": "daa0417d",
   "metadata": {},
   "outputs": [],
   "source": [
    "import numpy as np\n",
    "import pandas as pd\n",
    "import matplotlib.pyplot as plt\n",
    "import case_pandas as case"
   ]
  },
  {
   "cell_type": "code",
   "execution_count": 3,
   "id": "c1eb1f04",
   "metadata": {},
   "outputs": [],
   "source": [
    "testCaseName = 'testcase'\n",
    "params = pd.DataFrame.from_dict({\n",
    "    'casename': testCaseName,\n",
    "    'months': 600,\n",
    "    'WI': 1,\n",
    "    'NRI': 0.9,\n",
    "    'Decline_type': 4,\n",
    "    'qi': 500,\n",
    "    'Di_sec': 0.25,\n",
    "    'b': 2,\n",
    "    'Dterm_sec': 0.05,\n",
    "    'peak': 36,\n",
    "    'oilYield': 0,\n",
    "    'nglYield': 20,\n",
    "    'shrink': 0.95,\n",
    "    'fixedCost': 2000,\n",
    "    'overhead': 300,\n",
    "    'varGasCost': 0.6,\n",
    "    'varOilCost': 3.6,\n",
    "    'severanceTax': 0.01,\n",
    "    'adValoremTax': 0.05,\n",
    "    'firstMonthCapex': 100000,\n",
    "    'lossFunction': 'BFIT'\n",
    "}, orient = 'index')"
   ]
  },
  {
   "cell_type": "code",
   "execution_count": 4,
   "id": "eae8b3e9",
   "metadata": {},
   "outputs": [
    {
     "data": {
      "text/plain": [
       "casename           testcase\n",
       "months                  600\n",
       "WI                        1\n",
       "NRI                     0.9\n",
       "Decline_type              4\n",
       "qi                      500\n",
       "Di_sec                 0.25\n",
       "b                         2\n",
       "Dterm_sec              0.05\n",
       "peak                     36\n",
       "oilYield                  0\n",
       "nglYield                 20\n",
       "shrink                 0.95\n",
       "fixedCost              2000\n",
       "overhead                300\n",
       "varGasCost              0.6\n",
       "varOilCost              3.6\n",
       "severanceTax           0.01\n",
       "adValoremTax           0.05\n",
       "firstMonthCapex      100000\n",
       "lossFunction           BFIT\n",
       "Name: 0, dtype: object"
      ]
     },
     "execution_count": 4,
     "metadata": {},
     "output_type": "execute_result"
    }
   ],
   "source": [
    "params[0]"
   ]
  },
  {
   "cell_type": "code",
   "execution_count": 5,
   "id": "e28eaa23",
   "metadata": {},
   "outputs": [],
   "source": [
    "testcase = case.case(params)"
   ]
  },
  {
   "cell_type": "code",
   "execution_count": 6,
   "id": "cfabb967",
   "metadata": {},
   "outputs": [],
   "source": [
    "testcase.decline()"
   ]
  },
  {
   "cell_type": "code",
   "execution_count": 7,
   "id": "cf95e936",
   "metadata": {
    "scrolled": true
   },
   "outputs": [
    {
     "data": {
      "text/plain": [
       "<AxesSubplot:xlabel='tStart'>"
      ]
     },
     "execution_count": 7,
     "metadata": {},
     "output_type": "execute_result"
    },
    {
     "data": {
      "image/png": "[encoded data removed]",
      "text/plain": [
       "<Figure size 432x288 with 1 Axes>"
      ]
     },
     "metadata": {
      "needs_background": "light"
     },
     "output_type": "display_data"
    }
   ],
   "source": [
    "testcase.timeSeries.plot('tStart', 'qEnd', logy = True)"
   ]
  },
  {
   "cell_type": "code",
   "execution_count": 8,
   "id": "90ac7f81",
   "metadata": {},
   "outputs": [
    {
     "data": {
      "text/plain": [
       "<AxesSubplot:xlabel='tStart'>"
      ]
     },
     "execution_count": 8,
     "metadata": {},
     "output_type": "execute_result"
    },
    {
     "data": {
      "image/png": "[encoded data removed]",
      "text/plain": [
       "<Figure size 432x288 with 1 Axes>"
      ]
     },
     "metadata": {
      "needs_background": "light"
     },
     "output_type": "display_data"
    }
   ],
   "source": [
    "testcase.timeSeries.plot('tStart', 'Volume', logy = True)"
   ]
  },
  {
   "cell_type": "code",
   "execution_count": 9,
   "id": "ea93f140",
   "metadata": {},
   "outputs": [],
   "source": [
    "testcase.production()"
   ]
  },
  {
   "cell_type": "code",
   "execution_count": 10,
   "id": "4ef66eb4",
   "metadata": {},
   "outputs": [],
   "source": [
    "testcase.pricing('flat',2.5,45,-0.1,-10.7,0.39)"
   ]
  },
  {
   "cell_type": "code",
   "execution_count": 11,
   "id": "261a1f13",
   "metadata": {},
   "outputs": [],
   "source": [
    "testcase.revenue()"
   ]
  },
  {
   "cell_type": "code",
   "execution_count": 12,
   "id": "3eb329fc",
   "metadata": {},
   "outputs": [],
   "source": [
    "testcase.expenses()"
   ]
  },
  {
   "cell_type": "code",
   "execution_count": 13,
   "id": "2114f6a2",
   "metadata": {},
   "outputs": [],
   "source": [
    "testcase.capex()"
   ]
  },
  {
   "cell_type": "code",
   "execution_count": 14,
   "id": "adde894d",
   "metadata": {},
   "outputs": [],
   "source": [
    "testcase.cashFlow()"
   ]
  },
  {
   "cell_type": "code",
   "execution_count": 15,
   "id": "75598ebc",
   "metadata": {},
   "outputs": [],
   "source": [
    "testcase.life()"
   ]
  },
  {
   "cell_type": "code",
   "execution_count": 16,
   "id": "89b4ad91",
   "metadata": {},
   "outputs": [
    {
     "data": {
      "text/html": [
       "<div>\n",
       "<style scoped>\n",
       "    .dataframe tbody tr th:only-of-type {\n",
       "        vertical-align: middle;\n",
       "    }\n",
       "\n",
       "    .dataframe tbody tr th {\n",
       "        vertical-align: top;\n",
       "    }\n",
       "\n",
       "    .dataframe thead th {\n",
       "        text-align: right;\n",
       "    }\n",
       "</style>\n",
       "<table border=\"1\" class=\"dataframe\">\n",
       "  <thead>\n",
       "    <tr style=\"text-align: right;\">\n",
       "      <th></th>\n",
       "      <th>tStart</th>\n",
       "      <th>tMid</th>\n",
       "      <th>tEnd</th>\n",
       "      <th>qStart</th>\n",
       "      <th>qEnd</th>\n",
       "      <th>Volume</th>\n",
       "      <th>grossGas</th>\n",
       "      <th>averageMonthlyGasRate</th>\n",
       "      <th>grossOil</th>\n",
       "      <th>grossNGL</th>\n",
       "      <th>...</th>\n",
       "      <th>severanceTax</th>\n",
       "      <th>adValoremTax</th>\n",
       "      <th>totalExpense</th>\n",
       "      <th>grossCapex</th>\n",
       "      <th>netCapex</th>\n",
       "      <th>netCapexDiscounted</th>\n",
       "      <th>netPV0</th>\n",
       "      <th>netPV10</th>\n",
       "      <th>cumNetPV0</th>\n",
       "      <th>cumNetPV10</th>\n",
       "    </tr>\n",
       "  </thead>\n",
       "  <tbody>\n",
       "    <tr>\n",
       "      <th>0</th>\n",
       "      <td>0.0000</td>\n",
       "      <td>15.21875</td>\n",
       "      <td>30.4375</td>\n",
       "      <td>500.000000</td>\n",
       "      <td>484.543712</td>\n",
       "      <td>14979.831827</td>\n",
       "      <td>14979.831827</td>\n",
       "      <td>492.150532</td>\n",
       "      <td>0.0</td>\n",
       "      <td>299.596637</td>\n",
       "      <td>...</td>\n",
       "      <td>354.707438</td>\n",
       "      <td>1755.801817</td>\n",
       "      <td>12949.013396</td>\n",
       "      <td>100000.0</td>\n",
       "      <td>90000.0</td>\n",
       "      <td>90000.0</td>\n",
       "      <td>-67478.269614</td>\n",
       "      <td>-67478.269614</td>\n",
       "      <td>-67478.269614</td>\n",
       "      <td>-67478.269614</td>\n",
       "    </tr>\n",
       "    <tr>\n",
       "      <th>1</th>\n",
       "      <td>30.4375</td>\n",
       "      <td>45.65625</td>\n",
       "      <td>60.8750</td>\n",
       "      <td>484.543712</td>\n",
       "      <td>470.437536</td>\n",
       "      <td>14530.449821</td>\n",
       "      <td>14530.449821</td>\n",
       "      <td>477.386442</td>\n",
       "      <td>0.0</td>\n",
       "      <td>290.608996</td>\n",
       "      <td>...</td>\n",
       "      <td>344.066521</td>\n",
       "      <td>1703.12928</td>\n",
       "      <td>12629.552199</td>\n",
       "      <td>0.0</td>\n",
       "      <td>0.0</td>\n",
       "      <td>0.0</td>\n",
       "      <td>21777.099931</td>\n",
       "      <td>21604.820062</td>\n",
       "      <td>-45701.169683</td>\n",
       "      <td>-45873.449552</td>\n",
       "    </tr>\n",
       "    <tr>\n",
       "      <th>2</th>\n",
       "      <td>60.8750</td>\n",
       "      <td>76.09375</td>\n",
       "      <td>91.3125</td>\n",
       "      <td>470.437536</td>\n",
       "      <td>457.495711</td>\n",
       "      <td>14119.237139</td>\n",
       "      <td>14119.237139</td>\n",
       "      <td>463.876374</td>\n",
       "      <td>0.0</td>\n",
       "      <td>282.384743</td>\n",
       "      <td>...</td>\n",
       "      <td>334.329416</td>\n",
       "      <td>1654.93061</td>\n",
       "      <td>12337.225196</td>\n",
       "      <td>0.0</td>\n",
       "      <td>0.0</td>\n",
       "      <td>0.0</td>\n",
       "      <td>21095.716425</td>\n",
       "      <td>20763.257886</td>\n",
       "      <td>-24605.453258</td>\n",
       "      <td>-25110.191667</td>\n",
       "    </tr>\n",
       "    <tr>\n",
       "      <th>3</th>\n",
       "      <td>91.3125</td>\n",
       "      <td>106.53125</td>\n",
       "      <td>121.7500</td>\n",
       "      <td>457.495711</td>\n",
       "      <td>445.566394</td>\n",
       "      <td>13741.078176</td>\n",
       "      <td>13741.078176</td>\n",
       "      <td>451.45226</td>\n",
       "      <td>0.0</td>\n",
       "      <td>274.821564</td>\n",
       "      <td>...</td>\n",
       "      <td>325.37499</td>\n",
       "      <td>1610.606201</td>\n",
       "      <td>12068.395752</td>\n",
       "      <td>0.0</td>\n",
       "      <td>0.0</td>\n",
       "      <td>0.0</td>\n",
       "      <td>20469.103262</td>\n",
       "      <td>19987.139592</td>\n",
       "      <td>-4136.349996</td>\n",
       "      <td>-5123.052075</td>\n",
       "    </tr>\n",
       "    <tr>\n",
       "      <th>4</th>\n",
       "      <td>121.7500</td>\n",
       "      <td>136.96875</td>\n",
       "      <td>152.1875</td>\n",
       "      <td>445.566394</td>\n",
       "      <td>434.524095</td>\n",
       "      <td>13391.768643</td>\n",
       "      <td>13391.768643</td>\n",
       "      <td>439.975972</td>\n",
       "      <td>0.0</td>\n",
       "      <td>267.835373</td>\n",
       "      <td>...</td>\n",
       "      <td>317.10369</td>\n",
       "      <td>1569.663264</td>\n",
       "      <td>11820.07508</td>\n",
       "      <td>0.0</td>\n",
       "      <td>0.0</td>\n",
       "      <td>0.0</td>\n",
       "      <td>19890.29389</td>\n",
       "      <td>19268.310599</td>\n",
       "      <td>15753.943894</td>\n",
       "      <td>14145.258524</td>\n",
       "    </tr>\n",
       "    <tr>\n",
       "      <th>...</th>\n",
       "      <td>...</td>\n",
       "      <td>...</td>\n",
       "      <td>...</td>\n",
       "      <td>...</td>\n",
       "      <td>...</td>\n",
       "      <td>...</td>\n",
       "      <td>...</td>\n",
       "      <td>...</td>\n",
       "      <td>...</td>\n",
       "      <td>...</td>\n",
       "      <td>...</td>\n",
       "      <td>...</td>\n",
       "      <td>...</td>\n",
       "      <td>...</td>\n",
       "      <td>...</td>\n",
       "      <td>...</td>\n",
       "      <td>...</td>\n",
       "      <td>...</td>\n",
       "      <td>...</td>\n",
       "      <td>...</td>\n",
       "      <td>...</td>\n",
       "    </tr>\n",
       "    <tr>\n",
       "      <th>595</th>\n",
       "      <td>NaN</td>\n",
       "      <td>NaN</td>\n",
       "      <td>NaN</td>\n",
       "      <td>NaN</td>\n",
       "      <td>NaN</td>\n",
       "      <td>NaN</td>\n",
       "      <td>NaN</td>\n",
       "      <td>NaN</td>\n",
       "      <td>NaN</td>\n",
       "      <td>NaN</td>\n",
       "      <td>...</td>\n",
       "      <td>NaN</td>\n",
       "      <td>NaN</td>\n",
       "      <td>NaN</td>\n",
       "      <td>NaN</td>\n",
       "      <td>NaN</td>\n",
       "      <td>NaN</td>\n",
       "      <td>NaN</td>\n",
       "      <td>NaN</td>\n",
       "      <td>NaN</td>\n",
       "      <td>NaN</td>\n",
       "    </tr>\n",
       "    <tr>\n",
       "      <th>596</th>\n",
       "      <td>NaN</td>\n",
       "      <td>NaN</td>\n",
       "      <td>NaN</td>\n",
       "      <td>NaN</td>\n",
       "      <td>NaN</td>\n",
       "      <td>NaN</td>\n",
       "      <td>NaN</td>\n",
       "      <td>NaN</td>\n",
       "      <td>NaN</td>\n",
       "      <td>NaN</td>\n",
       "      <td>...</td>\n",
       "      <td>NaN</td>\n",
       "      <td>NaN</td>\n",
       "      <td>NaN</td>\n",
       "      <td>NaN</td>\n",
       "      <td>NaN</td>\n",
       "      <td>NaN</td>\n",
       "      <td>NaN</td>\n",
       "      <td>NaN</td>\n",
       "      <td>NaN</td>\n",
       "      <td>NaN</td>\n",
       "    </tr>\n",
       "    <tr>\n",
       "      <th>597</th>\n",
       "      <td>NaN</td>\n",
       "      <td>NaN</td>\n",
       "      <td>NaN</td>\n",
       "      <td>NaN</td>\n",
       "      <td>NaN</td>\n",
       "      <td>NaN</td>\n",
       "      <td>NaN</td>\n",
       "      <td>NaN</td>\n",
       "      <td>NaN</td>\n",
       "      <td>NaN</td>\n",
       "      <td>...</td>\n",
       "      <td>NaN</td>\n",
       "      <td>NaN</td>\n",
       "      <td>NaN</td>\n",
       "      <td>NaN</td>\n",
       "      <td>NaN</td>\n",
       "      <td>NaN</td>\n",
       "      <td>NaN</td>\n",
       "      <td>NaN</td>\n",
       "      <td>NaN</td>\n",
       "      <td>NaN</td>\n",
       "    </tr>\n",
       "    <tr>\n",
       "      <th>598</th>\n",
       "      <td>NaN</td>\n",
       "      <td>NaN</td>\n",
       "      <td>NaN</td>\n",
       "      <td>NaN</td>\n",
       "      <td>NaN</td>\n",
       "      <td>NaN</td>\n",
       "      <td>NaN</td>\n",
       "      <td>NaN</td>\n",
       "      <td>NaN</td>\n",
       "      <td>NaN</td>\n",
       "      <td>...</td>\n",
       "      <td>NaN</td>\n",
       "      <td>NaN</td>\n",
       "      <td>NaN</td>\n",
       "      <td>NaN</td>\n",
       "      <td>NaN</td>\n",
       "      <td>NaN</td>\n",
       "      <td>NaN</td>\n",
       "      <td>NaN</td>\n",
       "      <td>NaN</td>\n",
       "      <td>NaN</td>\n",
       "    </tr>\n",
       "    <tr>\n",
       "      <th>599</th>\n",
       "      <td>NaN</td>\n",
       "      <td>NaN</td>\n",
       "      <td>NaN</td>\n",
       "      <td>NaN</td>\n",
       "      <td>NaN</td>\n",
       "      <td>NaN</td>\n",
       "      <td>NaN</td>\n",
       "      <td>NaN</td>\n",
       "      <td>NaN</td>\n",
       "      <td>NaN</td>\n",
       "      <td>...</td>\n",
       "      <td>NaN</td>\n",
       "      <td>NaN</td>\n",
       "      <td>NaN</td>\n",
       "      <td>NaN</td>\n",
       "      <td>NaN</td>\n",
       "      <td>NaN</td>\n",
       "      <td>NaN</td>\n",
       "      <td>NaN</td>\n",
       "      <td>NaN</td>\n",
       "      <td>NaN</td>\n",
       "    </tr>\n",
       "  </tbody>\n",
       "</table>\n",
       "<p>600 rows × 39 columns</p>\n",
       "</div>"
      ],
      "text/plain": [
       "       tStart       tMid      tEnd      qStart        qEnd        Volume  \\\n",
       "0      0.0000   15.21875   30.4375  500.000000  484.543712  14979.831827   \n",
       "1     30.4375   45.65625   60.8750  484.543712  470.437536  14530.449821   \n",
       "2     60.8750   76.09375   91.3125  470.437536  457.495711  14119.237139   \n",
       "3     91.3125  106.53125  121.7500  457.495711  445.566394  13741.078176   \n",
       "4    121.7500  136.96875  152.1875  445.566394  434.524095  13391.768643   \n",
       "..        ...        ...       ...         ...         ...           ...   \n",
       "595       NaN        NaN       NaN         NaN         NaN           NaN   \n",
       "596       NaN        NaN       NaN         NaN         NaN           NaN   \n",
       "597       NaN        NaN       NaN         NaN         NaN           NaN   \n",
       "598       NaN        NaN       NaN         NaN         NaN           NaN   \n",
       "599       NaN        NaN       NaN         NaN         NaN           NaN   \n",
       "\n",
       "         grossGas averageMonthlyGasRate grossOil    grossNGL  ...  \\\n",
       "0    14979.831827            492.150532      0.0  299.596637  ...   \n",
       "1    14530.449821            477.386442      0.0  290.608996  ...   \n",
       "2    14119.237139            463.876374      0.0  282.384743  ...   \n",
       "3    13741.078176             451.45226      0.0  274.821564  ...   \n",
       "4    13391.768643            439.975972      0.0  267.835373  ...   \n",
       "..            ...                   ...      ...         ...  ...   \n",
       "595           NaN                   NaN      NaN         NaN  ...   \n",
       "596           NaN                   NaN      NaN         NaN  ...   \n",
       "597           NaN                   NaN      NaN         NaN  ...   \n",
       "598           NaN                   NaN      NaN         NaN  ...   \n",
       "599           NaN                   NaN      NaN         NaN  ...   \n",
       "\n",
       "    severanceTax adValoremTax  totalExpense grossCapex netCapex  \\\n",
       "0     354.707438  1755.801817  12949.013396   100000.0  90000.0   \n",
       "1     344.066521   1703.12928  12629.552199        0.0      0.0   \n",
       "2     334.329416   1654.93061  12337.225196        0.0      0.0   \n",
       "3      325.37499  1610.606201  12068.395752        0.0      0.0   \n",
       "4      317.10369  1569.663264   11820.07508        0.0      0.0   \n",
       "..           ...          ...           ...        ...      ...   \n",
       "595          NaN          NaN           NaN        NaN      NaN   \n",
       "596          NaN          NaN           NaN        NaN      NaN   \n",
       "597          NaN          NaN           NaN        NaN      NaN   \n",
       "598          NaN          NaN           NaN        NaN      NaN   \n",
       "599          NaN          NaN           NaN        NaN      NaN   \n",
       "\n",
       "    netCapexDiscounted        netPV0       netPV10     cumNetPV0    cumNetPV10  \n",
       "0              90000.0 -67478.269614 -67478.269614 -67478.269614 -67478.269614  \n",
       "1                  0.0  21777.099931  21604.820062 -45701.169683 -45873.449552  \n",
       "2                  0.0  21095.716425  20763.257886 -24605.453258 -25110.191667  \n",
       "3                  0.0  20469.103262  19987.139592  -4136.349996  -5123.052075  \n",
       "4                  0.0   19890.29389  19268.310599  15753.943894  14145.258524  \n",
       "..                 ...           ...           ...           ...           ...  \n",
       "595                NaN           NaN           NaN           NaN           NaN  \n",
       "596                NaN           NaN           NaN           NaN           NaN  \n",
       "597                NaN           NaN           NaN           NaN           NaN  \n",
       "598                NaN           NaN           NaN           NaN           NaN  \n",
       "599                NaN           NaN           NaN           NaN           NaN  \n",
       "\n",
       "[600 rows x 39 columns]"
      ]
     },
     "execution_count": 16,
     "metadata": {},
     "output_type": "execute_result"
    }
   ],
   "source": [
    "testcase.timeSeries"
   ]
  },
  {
   "cell_type": "code",
   "execution_count": 17,
   "id": "3aa65523",
   "metadata": {},
   "outputs": [
    {
     "data": {
      "text/plain": [
       "<AxesSubplot:xlabel='tStart'>"
      ]
     },
     "execution_count": 17,
     "metadata": {},
     "output_type": "execute_result"
    },
    {
     "data": {
      "image/png": "[encoded data removed]",
      "text/plain": [
       "<Figure size 432x288 with 1 Axes>"
      ]
     },
     "metadata": {
      "needs_background": "light"
     },
     "output_type": "display_data"
    }
   ],
   "source": [
    "testcase.timeSeries.plot('tStart', 'qEnd', logy = True)"
   ]
  },
  {
   "cell_type": "code",
   "execution_count": 18,
   "id": "116acc24",
   "metadata": {},
   "outputs": [
    {
     "data": {
      "text/plain": [
       "<AxesSubplot:xlabel='tStart'>"
      ]
     },
     "execution_count": 18,
     "metadata": {},
     "output_type": "execute_result"
    },
    {
     "data": {
      "image/png": "[encoded data removed]",
      "text/plain": [
       "<Figure size 432x288 with 1 Axes>"
      ]
     },
     "metadata": {
      "needs_background": "light"
     },
     "output_type": "display_data"
    }
   ],
   "source": [
    "testcase.timeSeries.plot('tStart', 'Volume', logy = True)"
   ]
  },
  {
   "cell_type": "code",
   "execution_count": 19,
   "id": "7f66c589",
   "metadata": {},
   "outputs": [
    {
     "data": {
      "text/plain": [
       "<AxesSubplot:xlabel='tStart'>"
      ]
     },
     "execution_count": 19,
     "metadata": {},
     "output_type": "execute_result"
    },
    {
     "data": {
      "image/png": "[encoded data removed]",
      "text/plain": [
       "<Figure size 432x288 with 1 Axes>"
      ]
     },
     "metadata": {
      "needs_background": "light"
     },
     "output_type": "display_data"
    }
   ],
   "source": [
    "testcase.timeSeries.plot('tStart', 'cumNetPV0')"
   ]
  },
  {
   "cell_type": "code",
   "execution_count": null,
   "id": "4ba4b299",
   "metadata": {},
   "outputs": [],
   "source": []
  }
 ],
 "metadata": {
  "kernelspec": {
   "display_name": "Python 3 (ipykernel)",
   "language": "python",
   "name": "python3"
  },
  "language_info": {
   "codemirror_mode": {
    "name": "ipython",
    "version": 3
   },
   "file_extension": ".py",
   "mimetype": "text/x-python",
   "name": "python",
   "nbconvert_exporter": "python",
   "pygments_lexer": "ipython3",
   "version": "3.9.6"
  }
 },
 "nbformat": 4,
 "nbformat_minor": 5
}
